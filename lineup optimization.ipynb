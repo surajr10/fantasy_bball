{
 "cells": [
  {
   "cell_type": "code",
   "execution_count": 183,
   "metadata": {
    "scrolled": true
   },
   "outputs": [
    {
     "name": "stdout",
     "output_type": "stream",
     "text": [
      "The autoreload extension is already loaded. To reload it, use:\n",
      "  %reload_ext autoreload\n"
     ]
    }
   ],
   "source": [
    "import requests\n",
    "import json\n",
    "from dataclasses import dataclass, fields\n",
    "import itertools\n",
    "\n",
    "%load_ext autoreload\n",
    "%autoreload 2\n",
    "\n",
    "from api import ESPN_API\n",
    "from classes import Stat, Schedule, Matchup, Week, Player\n",
    "from constants import *\n",
    "espn_api = ESPN_API()"
   ]
  },
  {
   "cell_type": "code",
   "execution_count": 185,
   "metadata": {
    "scrolled": true
   },
   "outputs": [
    {
     "name": "stdout",
     "output_type": "stream",
     "text": [
      "Collecting numpy\n",
      "  Downloading numpy-1.19.5-cp38-cp38-macosx_10_9_x86_64.whl (15.6 MB)\n",
      "\u001b[K     |████████████████████████████████| 15.6 MB 2.5 MB/s eta 0:00:01     |█████████████████████████       | 12.2 MB 2.0 MB/s eta 0:00:02\n",
      "\u001b[?25hInstalling collected packages: numpy\n",
      "Successfully installed numpy-1.19.5\n"
     ]
    }
   ],
   "source": [
    "!pip install numpy"
   ]
  },
  {
   "cell_type": "code",
   "execution_count": 188,
   "metadata": {},
   "outputs": [],
   "source": [
    "import numpy as np"
   ]
  },
  {
   "cell_type": "code",
   "execution_count": 115,
   "metadata": {},
   "outputs": [],
   "source": [
    "player_rating_dict = {\n",
    "    'Zach LaVine': 15.55,\n",
    "    'Bradley Beal': 10.75,\n",
    "    'Kawhi Leonard': 11.79,\n",
    "    'Nikola Vucevic': 13.77,\n",
    "    'Larry Nance Jr.': 7.51,\n",
    "    'Luka Doncic': 11.37,\n",
    "    'Mason Plumlee': 5.45,\n",
    "    'Clint Capela': 4.08,\n",
    "    'Richaun Holmes': 10.03,\n",
    "    'Keldon Johnson': 6.88,\n",
    "    'P.J. Washington': 6.55,\n",
    "    \"OG Anunoby\": 6.50,\n",
    "    'Nikola Jokic': 19.37,\n",
    "    'Kristaps Porzingis': -2.68\n",
    "}"
   ]
  },
  {
   "cell_type": "code",
   "execution_count": 167,
   "metadata": {},
   "outputs": [],
   "source": [
    "def player_games(team_no, no_games, rating_dict):\n",
    "    remaining_games = espn_api.remaining_games\n",
    "    all_players = espn_api.players\n",
    "    \n",
    "    roster = espn_api.teams[team_no].roster\n",
    "    players = list(roster.keys())\n",
    "    \n",
    "    games_played_dict = {}\n",
    "    for player in players:\n",
    "        games_played_dict[player] = {}\n",
    "        games_played_dict[player]['Rating'] = rating_dict[player]\n",
    "    games_played_dict = dict(sorted(games_played_dict.items(), key = lambda item: item[1]['Rating'], reverse=True))\n",
    "    \n",
    "    for player in games_played_dict.keys():\n",
    "        games_left = remaining_games[all_players[player].nba_tid]\n",
    "        if no_games >= games_left:\n",
    "            games_played_dict[player]['Games'] = games_left\n",
    "            no_games -= games_left\n",
    "        else:\n",
    "            games_played_dict[player]['Games'] = no_games\n",
    "            no_games = 0\n",
    "\n",
    "    return games_played_dict \n",
    "    "
   ]
  },
  {
   "cell_type": "code",
   "execution_count": 168,
   "metadata": {},
   "outputs": [
    {
     "data": {
      "text/plain": [
       "{'Zach LaVine': {'Rating': 15.55, 'Games': 2},\n",
       " 'Nikola Vucevic': {'Rating': 13.77, 'Games': 3},\n",
       " 'Kawhi Leonard': {'Rating': 11.79, 'Games': 3},\n",
       " 'Luka Doncic': {'Rating': 11.37, 'Games': 3},\n",
       " 'Bradley Beal': {'Rating': 10.75, 'Games': 3},\n",
       " 'Richaun Holmes': {'Rating': 10.03, 'Games': 3},\n",
       " 'Larry Nance Jr.': {'Rating': 7.51, 'Games': 3},\n",
       " 'Keldon Johnson': {'Rating': 6.88, 'Games': 3},\n",
       " 'P.J. Washington': {'Rating': 6.55, 'Games': 3},\n",
       " 'OG Anunoby': {'Rating': 6.5, 'Games': 3},\n",
       " 'Mason Plumlee': {'Rating': 5.45, 'Games': 1},\n",
       " 'Clint Capela': {'Rating': 4.08, 'Games': 0},\n",
       " 'Kristaps Porzingis': {'Rating': -2.68, 'Games': 0}}"
      ]
     },
     "execution_count": 168,
     "metadata": {},
     "output_type": "execute_result"
    }
   ],
   "source": [
    "player_games(6, 30, player_rating_dict)"
   ]
  },
  {
   "cell_type": "code",
   "execution_count": 170,
   "metadata": {},
   "outputs": [],
   "source": [
    "cats = ['points', 'turnovers', 'fgm', 'fga', 'ftm', 'fta', 'made_threes', \n",
    "       'rebounds', 'assists', 'steals', 'blocks']"
   ]
  },
  {
   "cell_type": "code",
   "execution_count": 175,
   "metadata": {},
   "outputs": [],
   "source": [
    "def overall_stats(games_dict, proj_type, cats):\n",
    "    all_players = espn_api.players\n",
    "    \n",
    "    stats = {}\n",
    "    for cat in cats:\n",
    "        stats[cat] = 0\n",
    "        for player in list(games_dict.keys()):\n",
    "            stats[cat] += getattr(getattr(all_players[player].stats, proj_type).avg, cat) * games_dict[player]['Games']\n",
    "    \n",
    "    return stats"
   ]
  },
  {
   "cell_type": "code",
   "execution_count": 176,
   "metadata": {},
   "outputs": [
    {
     "data": {
      "text/plain": [
       "{'points': 585.1285714285715,\n",
       " 'turnovers': 67.29835164835166,\n",
       " 'fgm': 214.2945054945055,\n",
       " 'fga': 432.2417582417583,\n",
       " 'ftm': 103.96043956043957,\n",
       " 'fta': 129.22252747252747,\n",
       " 'made_threes': 52.57912087912087,\n",
       " 'rebounds': 212.74615384615385,\n",
       " 'assists': 122.69505494505493,\n",
       " 'steals': 43.02967032967033,\n",
       " 'blocks': 23.78956043956044}"
      ]
     },
     "execution_count": 176,
     "metadata": {},
     "output_type": "execute_result"
    }
   ],
   "source": [
    "overall_stats(player_games(6,30, player_rating_dict), 's21', cats)"
   ]
  },
  {
   "cell_type": "code",
   "execution_count": 177,
   "metadata": {},
   "outputs": [],
   "source": [
    "def top_200_min():\n",
    "    all_players = espn_api.players\n",
    "    player_mins = {}\n",
    "    for player in list(all_players.keys()):\n",
    "        has_played = all_players[player].stats.s21\n",
    "        if has_played:\n",
    "            player_mins[player] = has_played.total.minutes\n",
    "    sorted_player_mins = {player: mins for player,mins in sorted(player_mins.items(), key = lambda item: item[1], reverse=True)}\n",
    "    sorted_player_mins = dict(itertools.islice(sorted_player_mins.items(), 200))\n",
    "    return sorted_player_mins"
   ]
  },
  {
   "cell_type": "code",
   "execution_count": 178,
   "metadata": {},
   "outputs": [
    {
     "data": {
      "text/plain": [
       "{'Julius Randle': 556.0,\n",
       " 'RJ Barrett': 554.0,\n",
       " 'Damian Lillard': 507.0,\n",
       " 'Zach LaVine': 498.0,\n",
       " 'Harrison Barnes': 492.0,\n",
       " 'Domantas Sabonis': 488.0,\n",
       " 'Coby White': 485.0,\n",
       " 'LeBron James': 482.0,\n",
       " 'Buddy Hield': 478.0,\n",
       " 'Malcolm Brogdon': 477.0,\n",
       " 'Jerami Grant': 471.0,\n",
       " \"Devonte' Graham\": 468.0,\n",
       " 'Fred VanVleet': 465.0,\n",
       " 'Dennis Schroder': 465.0,\n",
       " 'Larry Nance Jr.': 464.0,\n",
       " 'Terry Rozier': 463.0,\n",
       " 'Nikola Jokic': 462.0,\n",
       " 'Dejounte Murray': 459.0,\n",
       " 'Khris Middleton': 456.0,\n",
       " 'OG Anunoby': 451.0,\n",
       " 'Paul George': 450.0,\n",
       " 'Jrue Holiday': 450.0,\n",
       " 'Gordon Hayward': 450.0,\n",
       " 'Stephen Curry': 449.0,\n",
       " 'Mitchell Robinson': 449.0,\n",
       " 'Nikola Vucevic': 444.0,\n",
       " 'Joe Harris': 444.0,\n",
       " 'Keldon Johnson': 442.0,\n",
       " 'CJ McCollum': 441.0,\n",
       " 'Elfrid Payton': 436.0,\n",
       " 'Donovan Mitchell': 435.0,\n",
       " 'Kyle Lowry': 435.0,\n",
       " 'Jamal Murray': 429.0,\n",
       " \"De'Aaron Fox\": 429.0,\n",
       " 'Pascal Siakam': 427.0,\n",
       " 'Devin Booker': 425.0,\n",
       " 'Andrew Wiggins': 425.0,\n",
       " 'Trae Young': 424.0,\n",
       " 'Robert Covington': 422.0,\n",
       " 'Anthony Davis': 420.0,\n",
       " 'Brandon Ingram': 418.0,\n",
       " \"De'Andre Hunter\": 417.0,\n",
       " 'Luka Doncic': 416.0,\n",
       " 'DeMar DeRozan': 415.0,\n",
       " \"Royce O'Neale\": 414.0,\n",
       " 'Giannis Antetokounmpo': 412.0,\n",
       " 'Kawhi Leonard': 409.0,\n",
       " 'P.J. Washington': 407.0,\n",
       " 'Shai Gilgeous-Alexander': 406.0,\n",
       " 'Jaylen Brown': 406.0,\n",
       " 'Lonnie Walker IV': 405.0,\n",
       " 'Ben Simmons': 397.0,\n",
       " 'Danny Green': 397.0,\n",
       " 'Nicolas Batum': 396.0,\n",
       " 'Bojan Bogdanovic': 395.0,\n",
       " 'Rudy Gobert': 394.0,\n",
       " 'Cedi Osman': 394.0,\n",
       " 'Duncan Robinson': 393.0,\n",
       " 'Mike Conley': 392.0,\n",
       " 'Mikal Bridges': 391.0,\n",
       " 'Malik Beasley': 391.0,\n",
       " 'P.J. Tucker': 391.0,\n",
       " 'Richaun Holmes': 389.0,\n",
       " 'Kyle Anderson': 387.0,\n",
       " 'Andre Drummond': 386.0,\n",
       " 'Justin Holiday': 386.0,\n",
       " 'Kevin Durant': 384.0,\n",
       " 'Brandon Clarke': 383.0,\n",
       " 'Derrick Jones Jr.': 382.0,\n",
       " 'Brook Lopez': 381.0,\n",
       " 'Myles Turner': 380.0,\n",
       " 'Chris Paul': 379.0,\n",
       " 'Dillon Brooks': 379.0,\n",
       " \"D'Angelo Russell\": 377.0,\n",
       " 'Wendell Carter Jr.': 377.0,\n",
       " 'Will Barton': 377.0,\n",
       " 'Bismack Biyombo': 377.0,\n",
       " 'Reggie Bullock': 376.0,\n",
       " 'John Collins': 373.0,\n",
       " 'Steven Adams': 373.0,\n",
       " 'Christian Wood': 371.0,\n",
       " 'Tim Hardaway Jr.': 371.0,\n",
       " 'Kevin Huerter': 371.0,\n",
       " 'Kyle Kuzma': 371.0,\n",
       " 'James Harden': 370.0,\n",
       " 'Aaron Gordon': 369.0,\n",
       " 'Deandre Ayton': 367.0,\n",
       " 'Montrezl Harrell': 365.0,\n",
       " 'Marvin Bagley III': 364.0,\n",
       " 'Kelly Oubre Jr.': 363.0,\n",
       " 'Miles Bridges': 363.0,\n",
       " 'Terrence Ross': 363.0,\n",
       " 'Mason Plumlee': 360.0,\n",
       " 'Bradley Beal': 359.0,\n",
       " 'Tobias Harris': 359.0,\n",
       " 'Dwayne Bacon': 359.0,\n",
       " 'Marcus Smart': 357.0,\n",
       " 'Donte DiVincenzo': 357.0,\n",
       " 'Darius Bazley': 356.0,\n",
       " 'Zion Williamson': 355.0,\n",
       " 'LaMelo Ball': 353.0,\n",
       " 'Patty Mills': 353.0,\n",
       " 'Patrick Williams': 348.0,\n",
       " 'Jayson Tatum': 347.0,\n",
       " 'Josh Hart': 347.0,\n",
       " 'Joel Embiid': 346.0,\n",
       " 'Garrett Temple': 346.0,\n",
       " 'Luguentz Dort': 344.0,\n",
       " 'Jae Crowder': 344.0,\n",
       " 'Patrick Beverley': 344.0,\n",
       " 'Gary Harris': 343.0,\n",
       " 'Monte Morris': 342.0,\n",
       " 'Cole Anthony': 338.0,\n",
       " 'Tyus Jones': 338.0,\n",
       " 'Jeff Green': 338.0,\n",
       " 'Tyrese Haliburton': 337.0,\n",
       " 'Tyler Herro': 336.0,\n",
       " 'Caris LeVert': 335.0,\n",
       " 'Delon Wright': 335.0,\n",
       " 'Victor Oladipo': 330.0,\n",
       " 'Serge Ibaka': 326.0,\n",
       " 'Jordan Clarkson': 325.0,\n",
       " 'Luke Kennard': 325.0,\n",
       " 'Blake Griffin': 324.0,\n",
       " 'Carmelo Anthony': 323.0,\n",
       " 'Jonas Valanciunas': 322.0,\n",
       " 'Bobby Portis': 320.0,\n",
       " 'Damyean Dotson': 319.0,\n",
       " 'Eric Bledsoe': 318.0,\n",
       " 'Jarrett Allen': 318.0,\n",
       " 'Kelly Olynyk': 317.0,\n",
       " 'Rudy Gay': 316.0,\n",
       " 'Clint Capela': 314.0,\n",
       " 'Doug McDermott': 314.0,\n",
       " 'Cam Reddish': 312.0,\n",
       " 'Bam Adebayo': 311.0,\n",
       " 'Chris Boucher': 311.0,\n",
       " 'Paul Millsap': 309.0,\n",
       " 'LaMarcus Aldridge': 307.0,\n",
       " 'Kevin Knox II': 306.0,\n",
       " 'Tyrese Maxey': 304.0,\n",
       " 'Anthony Edwards': 302.0,\n",
       " 'Timothe Luwawu-Cabarrot': 302.0,\n",
       " \"Jae'Sean Tate\": 301.0,\n",
       " 'Khem Birch': 301.0,\n",
       " 'Lonzo Ball': 300.0,\n",
       " 'Collin Sexton': 299.0,\n",
       " 'Norman Powell': 298.0,\n",
       " 'Isaac Okoro': 295.0,\n",
       " 'Shake Milton': 294.0,\n",
       " 'Marc Gasol': 294.0,\n",
       " 'Gary Trent Jr.': 294.0,\n",
       " 'George Hill': 288.0,\n",
       " 'Cory Joseph': 286.0,\n",
       " 'Desmond Bane': 286.0,\n",
       " 'Otto Porter Jr.': 282.0,\n",
       " 'Jusuf Nurkic': 281.0,\n",
       " 'Enes Kanter': 280.0,\n",
       " 'Austin Rivers': 280.0,\n",
       " 'DeAndre Jordan': 277.0,\n",
       " 'Cameron Johnson': 276.0,\n",
       " 'Aaron Holiday': 275.0,\n",
       " 'Jakob Poeltl': 274.0,\n",
       " 'Thomas Bryant': 272.0,\n",
       " 'Payton Pritchard': 270.0,\n",
       " 'PJ Dozier': 270.0,\n",
       " 'Ricky Rubio': 269.0,\n",
       " 'James Wiseman': 268.0,\n",
       " 'Jarrett Culver': 267.0,\n",
       " 'Daniel Theis': 266.0,\n",
       " 'Davis Bertans': 263.0,\n",
       " 'David Nwaba': 262.0,\n",
       " 'JJ Redick': 261.0,\n",
       " 'Trey Burke': 261.0,\n",
       " 'Josh Richardson': 260.0,\n",
       " 'Russell Westbrook': 259.0,\n",
       " 'Grayson Allen': 258.0,\n",
       " 'Landry Shamet': 257.0,\n",
       " 'Deni Avdija': 255.0,\n",
       " 'Ivica Zubac': 254.0,\n",
       " 'Goran Dragic': 253.0,\n",
       " 'Kentavious Caldwell-Pope': 252.0,\n",
       " 'Dwight Howard': 251.0,\n",
       " 'Willie Cauley-Stein': 249.0,\n",
       " 'Wesley Matthews': 249.0,\n",
       " 'James Johnson': 247.0,\n",
       " 'Damion Lee': 247.0,\n",
       " 'Draymond Green': 246.0,\n",
       " 'Josh Jackson': 246.0,\n",
       " 'Hamidou Diallo': 245.0,\n",
       " 'Saddiq Bey': 245.0,\n",
       " 'Al Horford': 244.0,\n",
       " 'Naz Reid': 244.0,\n",
       " 'Solomon Hill': 243.0,\n",
       " 'D.J. Augustin': 242.0,\n",
       " 'Seth Curry': 240.0,\n",
       " 'Theo Maledon': 239.0,\n",
       " 'John Wall': 237.0,\n",
       " 'Derrick Rose': 237.0,\n",
       " 'Lou Williams': 236.0}"
      ]
     },
     "execution_count": 178,
     "metadata": {},
     "output_type": "execute_result"
    }
   ],
   "source": [
    "players_min = top_200_min()\n",
    "players_min"
   ]
  },
  {
   "cell_type": "code",
   "execution_count": 109,
   "metadata": {},
   "outputs": [
    {
     "data": {
      "text/plain": [
       "10.0"
      ]
     },
     "execution_count": 109,
     "metadata": {},
     "output_type": "execute_result"
    }
   ],
   "source": [
    "all_players['James Harden'].stats.s21.total.games_played"
   ]
  },
  {
   "cell_type": "code",
   "execution_count": 192,
   "metadata": {},
   "outputs": [],
   "source": [
    "def z_scores(player_mins, cats, proj_type):\n",
    "    all_players = espn_api.players\n",
    "    \n",
    "    stats = {}\n",
    "    stats['avg'] = {}\n",
    "    stats['std'] = {}\n",
    "    for cat in cats:\n",
    "        cat_lst = []\n",
    "        for player in list(player_mins.keys()):\n",
    "            cat_lst.append(getattr(getattr(all_players[player].stats, proj_type).avg, cat))\n",
    "        stats['avg'][cat] = numpy.mean(cat_lst)\n",
    "        stats['std'][cat] = numpy.std(cat_lst)\n",
    "    \n",
    "    return stats"
   ]
  },
  {
   "cell_type": "code",
   "execution_count": 193,
   "metadata": {},
   "outputs": [
    {
     "data": {
      "text/plain": [
       "{'avg': {'points': 13.94193503718504,\n",
       "  'turnovers': 1.7302706598956599,\n",
       "  'fgm': 5.100479353979354,\n",
       "  'fga': 10.93881732156732,\n",
       "  'ftm': 2.16816428016428,\n",
       "  'fta': 2.8174647713397714,\n",
       "  'made_threes': 1.572812049062049,\n",
       "  'rebounds': 5.229507728382727,\n",
       "  'assists': 3.103836025086025,\n",
       "  'steals': 0.9122791236541238,\n",
       "  'blocks': 0.5765793789543789},\n",
       " 'std': {'points': 6.169284352260523,\n",
       "  'turnovers': 0.9678365763977033,\n",
       "  'fgm': 2.192651598067952,\n",
       "  'fga': 4.4666461553091645,\n",
       "  'ftm': 1.6318223133060483,\n",
       "  'fta': 1.965931772784582,\n",
       "  'made_threes': 0.9774428362482682,\n",
       "  'rebounds': 2.6359266006284567,\n",
       "  'assists': 2.142285625715789,\n",
       "  'steals': 0.40782499597059596,\n",
       "  'blocks': 0.5290533010501444}}"
      ]
     },
     "execution_count": 193,
     "metadata": {},
     "output_type": "execute_result"
    }
   ],
   "source": [
    "z_scores(players_min, cats, 's21')"
   ]
  },
  {
   "cell_type": "code",
   "execution_count": null,
   "metadata": {},
   "outputs": [],
   "source": []
  }
 ],
 "metadata": {
  "kernelspec": {
   "display_name": "Python 3",
   "language": "python",
   "name": "python3"
  },
  "language_info": {
   "codemirror_mode": {
    "name": "ipython",
    "version": 3
   },
   "file_extension": ".py",
   "mimetype": "text/x-python",
   "name": "python",
   "nbconvert_exporter": "python",
   "pygments_lexer": "ipython3",
   "version": "3.8.5"
  }
 },
 "nbformat": 4,
 "nbformat_minor": 4
}
