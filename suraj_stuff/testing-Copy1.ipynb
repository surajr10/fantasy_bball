{
 "cells": [
  {
   "cell_type": "code",
   "execution_count": 1,
   "metadata": {},
   "outputs": [],
   "source": [
    "import time\n",
    "from ast import literal_eval\n",
    "from dataclasses import dataclass, fields\n",
    "import importlib"
   ]
  },
  {
   "cell_type": "code",
   "execution_count": 2,
   "metadata": {},
   "outputs": [],
   "source": [
    "%load_ext autoreload\n",
    "%autoreload 2"
   ]
  },
  {
   "cell_type": "code",
   "execution_count": 3,
   "metadata": {},
   "outputs": [],
   "source": [
    "import requests\n",
    "from dataclasses import dataclass\n",
    "import json\n",
    "\n",
    "with open(\"../proj/config.json\") as config_file:\n",
    "    config = json.load(config_file)\n",
    "league_url = \"http://fantasy.espn.com/apis/v3/games/fba/seasons/2021/segments/0/leagues/\" + str(config['league_id'])\n",
    "cookies = config['cookies']"
   ]
  },
  {
   "cell_type": "code",
   "execution_count": 4,
   "metadata": {},
   "outputs": [
    {
     "data": {
      "text/plain": [
       "{'swid': '{8EB3FF23-85F1-4530-9BE7-64D12482B7EB}',\n",
       " 'espn_s2': 'AECqHIgk96hNR8hAd1cr9pbXwMoLbWViGxpF%2BvAU%2Ba75ywyxIm0tcrLIeC%2Fh0W9cCQDYuQqwUtfj2w%2BSsRiGwr%2BE%2B1awm2GRTgG8eQiRdv9tum4TB2cPX8XEsIHfSBAsg7pgo9Be1lWI7Np7AmN4z1gsIoef0guDD0QdWYiYPaD90YbBEETNNJ%2BHbo17Wy9f3pg%2BuDg2VsCfz2ycOzyhseOypv%2BAIVoZVPXQvtfyWODz5nN4R%2FJipnZFlnHXJUW1mpI%3D'}"
      ]
     },
     "execution_count": 4,
     "metadata": {},
     "output_type": "execute_result"
    }
   ],
   "source": [
    "cookies"
   ]
  },
  {
   "cell_type": "code",
   "execution_count": 3,
   "metadata": {},
   "outputs": [
    {
     "ename": "ModuleNotFoundError",
     "evalue": "No module named 'bball'",
     "output_type": "error",
     "traceback": [
      "\u001b[0;31m---------------------------------------------------------------------------\u001b[0m",
      "\u001b[0;31mModuleNotFoundError\u001b[0m                       Traceback (most recent call last)",
      "\u001b[0;32m<ipython-input-3-47cd487a0d0d>\u001b[0m in \u001b[0;36m<module>\u001b[0;34m\u001b[0m\n\u001b[0;32m----> 1\u001b[0;31m \u001b[0;32mimport\u001b[0m \u001b[0mbball\u001b[0m\u001b[0;34m\u001b[0m\u001b[0;34m\u001b[0m\u001b[0m\n\u001b[0m",
      "\u001b[0;31mModuleNotFoundError\u001b[0m: No module named 'bball'"
     ]
    }
   ],
   "source": [
    "import bball"
   ]
  },
  {
   "cell_type": "code",
   "execution_count": 14,
   "metadata": {},
   "outputs": [
    {
     "ename": "ModuleNotFoundError",
     "evalue": "No module named 'proj'",
     "output_type": "error",
     "traceback": [
      "\u001b[0;31m---------------------------------------------------------------------------\u001b[0m",
      "\u001b[0;31mModuleNotFoundError\u001b[0m                       Traceback (most recent call last)",
      "\u001b[0;32m<ipython-input-14-488d246aac30>\u001b[0m in \u001b[0;36m<module>\u001b[0;34m\u001b[0m\n\u001b[0;32m----> 1\u001b[0;31m \u001b[0;32mfrom\u001b[0m \u001b[0mproj\u001b[0m\u001b[0;34m.\u001b[0m\u001b[0mleague\u001b[0m \u001b[0;32mimport\u001b[0m \u001b[0mESPNLeague\u001b[0m\u001b[0;34m\u001b[0m\u001b[0;34m\u001b[0m\u001b[0m\n\u001b[0m",
      "\u001b[0;31mModuleNotFoundError\u001b[0m: No module named 'proj'"
     ]
    }
   ],
   "source": [
    "from proj.league import ESPNLeague"
   ]
  },
  {
   "cell_type": "code",
   "execution_count": null,
   "metadata": {},
   "outputs": [],
   "source": [
    "from api import ESPN_API"
   ]
  },
  {
   "cell_type": "code",
   "execution_count": null,
   "metadata": {},
   "outputs": [],
   "source": [
    "espn_api = ESPN_API()"
   ]
  },
  {
   "cell_type": "code",
   "execution_count": null,
   "metadata": {},
   "outputs": [],
   "source": []
  },
  {
   "cell_type": "code",
   "execution_count": null,
   "metadata": {},
   "outputs": [],
   "source": [
    "from classes import *\n"
   ]
  },
  {
   "cell_type": "code",
   "execution_count": null,
   "metadata": {},
   "outputs": [],
   "source": [
    "for field in fields(Stat):\n",
    "    print(field.name)"
   ]
  },
  {
   "cell_type": "code",
   "execution_count": null,
   "metadata": {},
   "outputs": [],
   "source": [
    "espn_api = ESPN_API()"
   ]
  },
  {
   "cell_type": "code",
   "execution_count": null,
   "metadata": {},
   "outputs": [],
   "source": [
    "players, name_to_pid = espn_api.get_player_info()"
   ]
  },
  {
   "cell_type": "code",
   "execution_count": null,
   "metadata": {},
   "outputs": [],
   "source": [
    "matchup = \"?view=mMatchup\"\n",
    "matchup_json = requests.get(league_url, cookies=cookies, params = {\"view\":\"mMatchup\"}).json()"
   ]
  },
  {
   "cell_type": "code",
   "execution_count": null,
   "metadata": {},
   "outputs": [],
   "source": [
    "matchup_json.keys()"
   ]
  },
  {
   "cell_type": "code",
   "execution_count": null,
   "metadata": {},
   "outputs": [],
   "source": [
    "matchup_json['gameId']"
   ]
  },
  {
   "cell_type": "code",
   "execution_count": null,
   "metadata": {},
   "outputs": [],
   "source": [
    "matchup_json['teams'][0]"
   ]
  },
  {
   "cell_type": "code",
   "execution_count": null,
   "metadata": {},
   "outputs": [],
   "source": [
    " "
   ]
  },
  {
   "cell_type": "code",
   "execution_count": null,
   "metadata": {},
   "outputs": [],
   "source": [
    "home_view = \"?rosterForTeamId=9&view=mDraftDetail&view=mLiveScoring&view=mMatchupScore&view=mPendingTransactions&view=mPositionalRatings&view=mRoster&view=mSettings&view=mTeam&view=modular&view=mNav\"\n",
    "home = requests.get(league_url+home_view).json()\n",
    "\n",
    "\n"
   ]
  },
  {
   "cell_type": "code",
   "execution_count": null,
   "metadata": {},
   "outputs": [],
   "source": [
    "home.keys()"
   ]
  },
  {
   "cell_type": "code",
   "execution_count": null,
   "metadata": {},
   "outputs": [],
   "source": [
    "scoreboard_view = \"?view=mMatchup&view=mMatchupScore&view=mRoster&view=mScoreboard&view=mSettings&view=mStatus&view=mTeam&view=modular&view=mNav\"\n",
    "scoreboard = requests.get(league_url+scoreboard_view).json()"
   ]
  },
  {
   "cell_type": "code",
   "execution_count": null,
   "metadata": {},
   "outputs": [],
   "source": [
    "scoreboard.keys()"
   ]
  },
  {
   "cell_type": "code",
   "execution_count": null,
   "metadata": {},
   "outputs": [],
   "source": [
    "schedule = scoreboard['schedule']"
   ]
  },
  {
   "cell_type": "code",
   "execution_count": null,
   "metadata": {},
   "outputs": [],
   "source": [
    "schedule[0].keys()"
   ]
  },
  {
   "cell_type": "code",
   "execution_count": null,
   "metadata": {},
   "outputs": [],
   "source": [
    "# for obj in schedule:\n",
    "#     print(obj['matchupPeriodId'])"
   ]
  },
  {
   "cell_type": "code",
   "execution_count": null,
   "metadata": {},
   "outputs": [],
   "source": [
    "teams[5]"
   ]
  },
  {
   "cell_type": "code",
   "execution_count": null,
   "metadata": {},
   "outputs": [],
   "source": [
    "schedule[0]['home']"
   ]
  },
  {
   "cell_type": "code",
   "execution_count": null,
   "metadata": {},
   "outputs": [],
   "source": [
    "from typing import Dict\n",
    "@dataclass\n",
    "class Team:\n",
    "    team_id: int\n",
    "    owner: str\n",
    "    abbrev: str\n",
    "    name: str\n",
    "    season_totals: Dict[str, float]"
   ]
  },
  {
   "cell_type": "code",
   "execution_count": null,
   "metadata": {},
   "outputs": [],
   "source": [
    "teams = {}\n",
    "for team in home['teams']:\n",
    "    curr_id = team['id']\n",
    "    team_obj = Team(team_id = team['id'],\n",
    "                owner = team['primaryOwner'][1:-1],\n",
    "                abbrev = team['abbrev'],\n",
    "                name = team['nickname'],\n",
    "                totals = team['valuesByStat'])\n",
    "    teams[curr_id] = team_obj"
   ]
  },
  {
   "cell_type": "code",
   "execution_count": null,
   "metadata": {},
   "outputs": [],
   "source": [
    "info = requests.get(league_url, \n",
    "                    cookies=cookies,\n",
    "                    params={\"view\":\"kona_player_info\"},\n",
    "                   headers={'x-fantasy-filter':\n",
    "                           '{\"players\":{\"filterStatus\":{\"value\":[\"FREEAGENT\",\"WAIVERS\"]},\"filterSlotIds\":{\"value\":[0,1,2,3,4,5,6,7,8,9,10,11]},\"filterRanksForScoringPeriodIds\":{\"value\":[12]},\"limit\":250,\"sortPercOwned\":{\"sortAsc\":false,\"sortPriority\":1},\"sortDraftRanks\":{\"sortPriority\":100,\"sortAsc\":true,\"value\":\"STANDARD\"},\"filterRanksForRankTypes\":{\"value\":[\"STANDARD\"]},\"filterStatsForTopScoringPeriodIds\":{\"value\":5,\"additionalValue\":[\"002021\",\"102021\",\"002020\",\"012021\",\"022021\",\"032021\",\"042021\"]}}}',\n",
    "                           'x-fantasy-platform': 'kona-PROD-a5abcf16cafe5c335041277beeafcabc2a236402',\n",
    "                           'x-fantasy-source': 'kona'}\n",
    "                   ).json()\n",
    "for player in info['players']:\n",
    "    if player['player']['lastName'] == \"Barrett\":\n",
    "        print('sup')"
   ]
  },
  {
   "cell_type": "code",
   "execution_count": null,
   "metadata": {},
   "outputs": [],
   "source": [
    "opponents_url = 'https://fantasy.espn.com/apis/v3/games/fba/seasons/2021/segments/0/leagues/1281614904?view=mLiveScoring&view=mMatchupScore&view=mRoster&view=mSettings&view=mStandings&view=mStatus&view=mTeam&view=modular&view=mNav'\n",
    "opponents = requests.get(opponents_url, \n",
    "                        cookies=cookies, \n",
    "                        headers = {'x-fantasy-filter':\n",
    "                                  '{\"players\":{\"filterStatsForSourceIds\":{\"value\":[0]},\"filterStatsForSplitTypeIds\":{\"value\":[5]}}}',\n",
    "                                  'x-fantasy-platform': 'kona-PROD-a5abcf16cafe5c335041277beeafcabc2a236402'})\n"
   ]
  },
  {
   "cell_type": "code",
   "execution_count": null,
   "metadata": {},
   "outputs": [],
   "source": [
    "opponents.json()"
   ]
  },
  {
   "cell_type": "code",
   "execution_count": null,
   "metadata": {},
   "outputs": [],
   "source": [
    "teams = requests.get(\n",
    "    \"https://site.web.api.espn.com/apis/site/v2/teams?region=us&lang=en&leagues=nba\",\n",
    "    cookies=cookies\n",
    ").json()\n",
    "team_dict = {'0': 'No Team'}\n",
    "for div in teams['nba']:\n",
    "    for team in div['teams']:\n",
    "        team_dict[team['id']] = team['shortDisplayName']"
   ]
  },
  {
   "cell_type": "code",
   "execution_count": null,
   "metadata": {},
   "outputs": [],
   "source": [
    "team_dict"
   ]
  },
  {
   "cell_type": "code",
   "execution_count": null,
   "metadata": {},
   "outputs": [],
   "source": [
    "total_games = requests.get('https://fantasy.espn.com/apis/v3/games/fba/seasons/2021?view=proTeamSchedules_wl',\n",
    "                          cookies = cookies).json()"
   ]
  },
  {
   "cell_type": "code",
   "execution_count": null,
   "metadata": {},
   "outputs": [],
   "source": [
    "arr_to_team_dic = {}\n",
    "teams_total_games = total_games['settings']['proTeams']\n",
    "for i in range(len(teams_total_games)):\n",
    "    arr_to_team_dic[teams_total_games[i]['id']] = i"
   ]
  },
  {
   "cell_type": "code",
   "execution_count": null,
   "metadata": {},
   "outputs": [],
   "source": [
    "def remaining_games(team_id):\n",
    "    team = teams_total_games[arr_to_team_dic[team_id]]\n",
    "    games = team['proGamesByScoringPeriod'].values()\n",
    "    games_left = 0\n",
    "    for game in games:\n",
    "        date = game[0]['date']\n",
    "        #print(date)\n",
    "        if time.time()*1000 >= date:\n",
    "            games_left += 1\n",
    "    return (72-games_left)\n",
    "        "
   ]
  },
  {
   "cell_type": "code",
   "execution_count": null,
   "metadata": {},
   "outputs": [],
   "source": [
    "players[name_to_pid['RJ Barrett']].stats.s21_proj.avg"
   ]
  },
  {
   "cell_type": "code",
   "execution_count": null,
   "metadata": {},
   "outputs": [],
   "source": [
    "def projections(player_name):\n",
    "    player_info = players[name_to_pid[player_name]]\n",
    "    team_id = player_info.nba_tid\n",
    "    games_left = remaining_games(team_id)\n",
    "    avg_stats = player_info.stats.s21_proj.avg\n",
    "    proj_dic = {}\n",
    "    for field in fields(Stat):\n",
    "        proj_dic[field.name] = getattr(avg_stats, field.name) * games_left\n",
    "    return proj_dic\n",
    "    \n"
   ]
  },
  {
   "cell_type": "code",
   "execution_count": null,
   "metadata": {},
   "outputs": [],
   "source": [
    "projections('RJ Barrett')"
   ]
  },
  {
   "cell_type": "code",
   "execution_count": null,
   "metadata": {},
   "outputs": [],
   "source": [
    "from typing import Optional\n",
    "\n",
    "@dataclass\n",
    "class Stat:\n",
    "    points: float\n",
    "    turnovers: float\n",
    "    minutes: float\n",
    "    fgm: float\n",
    "    fga: float\n",
    "    ftm: float\n",
    "    fta: float\n",
    "    made_threes: float\n",
    "    attempted_threes: float\n",
    "    off_rebounds: float\n",
    "    def_rebounds: float\n",
    "    rebounds: float\n",
    "    assists: float\n",
    "    steals: float\n",
    "    blocks: float\n",
    "    fouls: float\n",
    "        \n",
    "    @property\n",
    "    def fg_pct(self) -> float:\n",
    "        return self.fgm/self.fga\n",
    "\n",
    "    @property\n",
    "    def ft_pct(self) -> float:\n",
    "        return self.ftm/self.fta\n",
    "    \n",
    "    @staticmethod\n",
    "    def parse_stat(stat_obj):\n",
    "        def from_stat(index):\n",
    "            return stat_obj[index] if index in stat_obj else None\n",
    "\n",
    "        return Stat(\n",
    "            points = from_stat('0'),\n",
    "            blocks = from_stat('1'),\n",
    "            steals = from_stat('2'),\n",
    "            assists = from_stat('3'),\n",
    "            off_rebounds = from_stat('4'),\n",
    "            def_rebounds = from_stat('5'),\n",
    "            rebounds = from_stat('6'),\n",
    "            fouls = from_stat('9'),\n",
    "            turnovers = from_stat('11'),\n",
    "            fgm = from_stat('13'),\n",
    "            fga = from_stat('14'),\n",
    "            ftm = from_stat('15'),\n",
    "            fta = from_stat('16'),\n",
    "            made_threes = from_stat('17'),\n",
    "            attempted_threes = from_stat('18'),\n",
    "            minutes = from_stat('40')\n",
    "        )\n",
    "\n",
    "        # 7,8 = ?\n",
    "        # fg_pct = 19\n",
    "        # ft_pct = 20\n",
    "        # 3_pct = 21\n",
    "        # efg = 22\n",
    "    \n",
    "@dataclass\n",
    "class StatDict:\n",
    "    avg: Stat\n",
    "    total: Stat\n",
    "        \n",
    "@dataclass\n",
    "class Stats:\n",
    "    last7: StatDict\n",
    "    last15: StatDict\n",
    "    last30: StatDict\n",
    "    s20: StatDict\n",
    "    s21: StatDict\n",
    "    s21_proj: StatDict\n",
    "\n",
    "@dataclass\n",
    "class Player:\n",
    "    pid: int\n",
    "    name: str\n",
    "    status: str # FREEAGENT, WAIVERS, etc.\n",
    "    stats: Stats"
   ]
  },
  {
   "cell_type": "code",
   "execution_count": null,
   "metadata": {},
   "outputs": [],
   "source": [
    "def get_stats(stats):\n",
    "    def get_stat(stat_id):\n",
    "        stat_objs = [stat for stat in stats if stat['id'] == stat_id]\n",
    "        if not stat_objs:\n",
    "            return None\n",
    "        stat_obj = stat_objs[0]\n",
    "        return StatDict(avg = Stat.parse_stat(stat_obj['averageStats']) if 'averageStats' in stat_obj else None, \n",
    "                        total= Stat.parse_stat(stat_obj['stats']))\n",
    "    return Stats(\n",
    "        last7 = get_stat('012021'),\n",
    "        last15 = get_stat('022021'),\n",
    "        last30 = get_stat('032021'),\n",
    "        s20 = get_stat('002020'),\n",
    "        s21 = get_stat('002021'),\n",
    "        s21_proj = get_stat('102021')\n",
    "    )\n"
   ]
  },
  {
   "cell_type": "code",
   "execution_count": null,
   "metadata": {},
   "outputs": [],
   "source": [
    "fantasy_filter = {\n",
    "    \"players\":\n",
    "        {\"filterStatus\": {\"value\": [\"FREEAGENT\",\"WAIVERS\"]},\n",
    "         \"filterSlotIds\":{\"value\":[0,1,2,3,4,5,6,7,8,9,10,11]},\n",
    "         \"filterRanksForScoringPeriodIds\":{\"value\":[12]},\n",
    "         \"limit\":1000,\n",
    "         \"sortPercOwned\":{\"sortAsc\":\"false\",\"sortPriority\":1},\n",
    "         \"sortDraftRanks\":{\"sortPriority\":100,\"sortAsc\":\"true\",\"value\":\"STANDARD\"},\n",
    "         \"filterRanksForRankTypes\":{\"value\":[\"STANDARD\"]},\n",
    "         \"filterStatsForTopScoringPeriodIds\":{\"value\":5,\"additionalValue\":[\"002021\",\"102021\",\"002020\",\"012021\",\"022021\",\"032021\",\"042021\"]}\n",
    "        }\n",
    "}"
   ]
  },
  {
   "cell_type": "code",
   "execution_count": null,
   "metadata": {},
   "outputs": [],
   "source": [
    "info = requests.get(league_url, \n",
    "    cookies=cookies,\n",
    "    params={\"view\":\"kona_player_info\"},\n",
    "   headers={'x-fantasy-filter': json.dumps(fantasy_filter),\n",
    "           'x-fantasy-platform': 'kona-PROD-a5abcf16cafe5c335041277beeafcabc2a236402',\n",
    "           'x-fantasy-source': 'kona'}\n",
    "   ).json()"
   ]
  },
  {
   "cell_type": "code",
   "execution_count": null,
   "metadata": {},
   "outputs": [],
   "source": [
    "for stat in player['player']['stats']:\n",
    "    print(stat)"
   ]
  },
  {
   "cell_type": "code",
   "execution_count": null,
   "metadata": {},
   "outputs": [],
   "source": [
    "free_agents = {}\n",
    "name_to_pid = {}\n",
    "for player in info['players']:\n",
    "    player_obj = player['player']\n",
    "    free_agents[player['id']] = Player(\n",
    "        pid = player['id'],\n",
    "        name = player_obj['fullName'],\n",
    "        status = player['status'],\n",
    "        stats = get_stats(player_obj['stats'])\n",
    "    )\n",
    "    name_to_pid[player_obj['fullName']] = player['id']\n"
   ]
  },
  {
   "cell_type": "code",
   "execution_count": null,
   "metadata": {},
   "outputs": [],
   "source": [
    "#"
   ]
  },
  {
   "cell_type": "code",
   "execution_count": null,
   "metadata": {},
   "outputs": [],
   "source": [
    "free_agents[4395625]#()"
   ]
  },
  {
   "cell_type": "code",
   "execution_count": null,
   "metadata": {},
   "outputs": [],
   "source": [
    "get_stats(barrett_stats).last7.avg"
   ]
  },
  {
   "cell_type": "code",
   "execution_count": null,
   "metadata": {},
   "outputs": [],
   "source": []
  },
  {
   "cell_type": "code",
   "execution_count": null,
   "metadata": {},
   "outputs": [],
   "source": [
    "# for player in info['players']:\n",
    "# #     obj = player['player']\n",
    "# # #     print(obj['firstName']+' '+obj['lastName'])\n",
    "# #     stats = obj['stats']\n",
    "# #     if obj['lastName'] == 'Barrett':\n",
    "# #         barrett_stats = stats\n",
    "# #     elif obj['lastName'] == 'Hunter':\n",
    "# #         hunter_stats = stats\n",
    "# for stat in barrett_stats:\n",
    "#     print(stat['externalId'], stat['id'], stat['stats'])\n",
    "#     print('--------------')"
   ]
  },
  {
   "cell_type": "code",
   "execution_count": null,
   "metadata": {},
   "outputs": [],
   "source": [
    "player['id']"
   ]
  },
  {
   "cell_type": "code",
   "execution_count": null,
   "metadata": {},
   "outputs": [],
   "source": [
    "agents['schedule']"
   ]
  },
  {
   "cell_type": "code",
   "execution_count": null,
   "metadata": {},
   "outputs": [],
   "source": []
  }
 ],
 "metadata": {
  "kernelspec": {
   "display_name": "Python [conda env:fantasy] *",
   "language": "python",
   "name": "conda-env-fantasy-py"
  },
  "language_info": {
   "codemirror_mode": {
    "name": "ipython",
    "version": 3
   },
   "file_extension": ".py",
   "mimetype": "text/x-python",
   "name": "python",
   "nbconvert_exporter": "python",
   "pygments_lexer": "ipython3",
   "version": "3.8.5"
  }
 },
 "nbformat": 4,
 "nbformat_minor": 4
}
